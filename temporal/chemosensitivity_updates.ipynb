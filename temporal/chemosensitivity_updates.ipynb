{
  "cells": [
    {
      "cell_type": "code",
      "execution_count": 2,
      "metadata": {
        "id": "ECecBO8tQmLd"
      },
      "outputs": [
        {
          "ename": "FileNotFoundError",
          "evalue": "[Errno 2] No such file or directory: '/content/drive/MyDrive/data/41467_2023_41132_MOESM3_ESM.xlsx'",
          "output_type": "error",
          "traceback": [
            "\u001b[0;31m---------------------------------------------------------------------------\u001b[0m",
            "\u001b[0;31mFileNotFoundError\u001b[0m                         Traceback (most recent call last)",
            "Cell \u001b[0;32mIn[2], line 7\u001b[0m\n\u001b[1;32m      1\u001b[0m \u001b[38;5;28;01mimport\u001b[39;00m\u001b[38;5;250m \u001b[39m\u001b[38;5;21;01mpandas\u001b[39;00m\u001b[38;5;250m \u001b[39m\u001b[38;5;28;01mas\u001b[39;00m\u001b[38;5;250m \u001b[39m\u001b[38;5;21;01mpd\u001b[39;00m \n\u001b[1;32m      3\u001b[0m \u001b[38;5;66;03m#cell line annotations for CCLE characterisation from https://www.nature.com/articles/s41467-023-41132-w#MOESM3\u001b[39;00m\n\u001b[1;32m      4\u001b[0m \u001b[38;5;66;03m#ccle 1019 has limited info on which cell lines are head and neck scc (ie: they only label as upper aerodigestive tract)\u001b[39;00m\n\u001b[1;32m      5\u001b[0m \u001b[38;5;66;03m#this calls out ccle cell lines for hnn scc\u001b[39;00m\n\u001b[1;32m      6\u001b[0m \u001b[38;5;66;03m#/content/drive/MyDrive/data/41467_2023_41132_MOESM3_ESM.xlsx\u001b[39;00m\n\u001b[0;32m----> 7\u001b[0m cell_line_annots \u001b[38;5;241m=\u001b[39m \u001b[43mpd\u001b[49m\u001b[38;5;241;43m.\u001b[39;49m\u001b[43mread_excel\u001b[49m\u001b[43m(\u001b[49m\u001b[38;5;124;43m'\u001b[39;49m\u001b[38;5;124;43m/content/drive/MyDrive/data/41467_2023_41132_MOESM3_ESM.xlsx\u001b[39;49m\u001b[38;5;124;43m'\u001b[39;49m\u001b[43m)\u001b[49m\n\u001b[1;32m      8\u001b[0m cell_line_annots\u001b[38;5;241m.\u001b[39mcolumns \u001b[38;5;241m=\u001b[39m cell_line_annots\u001b[38;5;241m.\u001b[39miloc[\u001b[38;5;241m0\u001b[39m]\n\u001b[1;32m      9\u001b[0m cell_line_annots \u001b[38;5;241m=\u001b[39m cell_line_annots[\u001b[38;5;241m1\u001b[39m:]\n",
            "File \u001b[0;32m~/Documents/chemosensitivity project/CHEMOSENSITIVITY/.venv/lib/python3.13/site-packages/pandas/io/excel/_base.py:495\u001b[0m, in \u001b[0;36mread_excel\u001b[0;34m(io, sheet_name, header, names, index_col, usecols, dtype, engine, converters, true_values, false_values, skiprows, nrows, na_values, keep_default_na, na_filter, verbose, parse_dates, date_parser, date_format, thousands, decimal, comment, skipfooter, storage_options, dtype_backend, engine_kwargs)\u001b[0m\n\u001b[1;32m    493\u001b[0m \u001b[38;5;28;01mif\u001b[39;00m \u001b[38;5;129;01mnot\u001b[39;00m \u001b[38;5;28misinstance\u001b[39m(io, ExcelFile):\n\u001b[1;32m    494\u001b[0m     should_close \u001b[38;5;241m=\u001b[39m \u001b[38;5;28;01mTrue\u001b[39;00m\n\u001b[0;32m--> 495\u001b[0m     io \u001b[38;5;241m=\u001b[39m \u001b[43mExcelFile\u001b[49m\u001b[43m(\u001b[49m\n\u001b[1;32m    496\u001b[0m \u001b[43m        \u001b[49m\u001b[43mio\u001b[49m\u001b[43m,\u001b[49m\n\u001b[1;32m    497\u001b[0m \u001b[43m        \u001b[49m\u001b[43mstorage_options\u001b[49m\u001b[38;5;241;43m=\u001b[39;49m\u001b[43mstorage_options\u001b[49m\u001b[43m,\u001b[49m\n\u001b[1;32m    498\u001b[0m \u001b[43m        \u001b[49m\u001b[43mengine\u001b[49m\u001b[38;5;241;43m=\u001b[39;49m\u001b[43mengine\u001b[49m\u001b[43m,\u001b[49m\n\u001b[1;32m    499\u001b[0m \u001b[43m        \u001b[49m\u001b[43mengine_kwargs\u001b[49m\u001b[38;5;241;43m=\u001b[39;49m\u001b[43mengine_kwargs\u001b[49m\u001b[43m,\u001b[49m\n\u001b[1;32m    500\u001b[0m \u001b[43m    \u001b[49m\u001b[43m)\u001b[49m\n\u001b[1;32m    501\u001b[0m \u001b[38;5;28;01melif\u001b[39;00m engine \u001b[38;5;129;01mand\u001b[39;00m engine \u001b[38;5;241m!=\u001b[39m io\u001b[38;5;241m.\u001b[39mengine:\n\u001b[1;32m    502\u001b[0m     \u001b[38;5;28;01mraise\u001b[39;00m \u001b[38;5;167;01mValueError\u001b[39;00m(\n\u001b[1;32m    503\u001b[0m         \u001b[38;5;124m\"\u001b[39m\u001b[38;5;124mEngine should not be specified when passing \u001b[39m\u001b[38;5;124m\"\u001b[39m\n\u001b[1;32m    504\u001b[0m         \u001b[38;5;124m\"\u001b[39m\u001b[38;5;124man ExcelFile - ExcelFile already has the engine set\u001b[39m\u001b[38;5;124m\"\u001b[39m\n\u001b[1;32m    505\u001b[0m     )\n",
            "File \u001b[0;32m~/Documents/chemosensitivity project/CHEMOSENSITIVITY/.venv/lib/python3.13/site-packages/pandas/io/excel/_base.py:1550\u001b[0m, in \u001b[0;36mExcelFile.__init__\u001b[0;34m(self, path_or_buffer, engine, storage_options, engine_kwargs)\u001b[0m\n\u001b[1;32m   1548\u001b[0m     ext \u001b[38;5;241m=\u001b[39m \u001b[38;5;124m\"\u001b[39m\u001b[38;5;124mxls\u001b[39m\u001b[38;5;124m\"\u001b[39m\n\u001b[1;32m   1549\u001b[0m \u001b[38;5;28;01melse\u001b[39;00m:\n\u001b[0;32m-> 1550\u001b[0m     ext \u001b[38;5;241m=\u001b[39m \u001b[43minspect_excel_format\u001b[49m\u001b[43m(\u001b[49m\n\u001b[1;32m   1551\u001b[0m \u001b[43m        \u001b[49m\u001b[43mcontent_or_path\u001b[49m\u001b[38;5;241;43m=\u001b[39;49m\u001b[43mpath_or_buffer\u001b[49m\u001b[43m,\u001b[49m\u001b[43m \u001b[49m\u001b[43mstorage_options\u001b[49m\u001b[38;5;241;43m=\u001b[39;49m\u001b[43mstorage_options\u001b[49m\n\u001b[1;32m   1552\u001b[0m \u001b[43m    \u001b[49m\u001b[43m)\u001b[49m\n\u001b[1;32m   1553\u001b[0m     \u001b[38;5;28;01mif\u001b[39;00m ext \u001b[38;5;129;01mis\u001b[39;00m \u001b[38;5;28;01mNone\u001b[39;00m:\n\u001b[1;32m   1554\u001b[0m         \u001b[38;5;28;01mraise\u001b[39;00m \u001b[38;5;167;01mValueError\u001b[39;00m(\n\u001b[1;32m   1555\u001b[0m             \u001b[38;5;124m\"\u001b[39m\u001b[38;5;124mExcel file format cannot be determined, you must specify \u001b[39m\u001b[38;5;124m\"\u001b[39m\n\u001b[1;32m   1556\u001b[0m             \u001b[38;5;124m\"\u001b[39m\u001b[38;5;124man engine manually.\u001b[39m\u001b[38;5;124m\"\u001b[39m\n\u001b[1;32m   1557\u001b[0m         )\n",
            "File \u001b[0;32m~/Documents/chemosensitivity project/CHEMOSENSITIVITY/.venv/lib/python3.13/site-packages/pandas/io/excel/_base.py:1402\u001b[0m, in \u001b[0;36minspect_excel_format\u001b[0;34m(content_or_path, storage_options)\u001b[0m\n\u001b[1;32m   1399\u001b[0m \u001b[38;5;28;01mif\u001b[39;00m \u001b[38;5;28misinstance\u001b[39m(content_or_path, \u001b[38;5;28mbytes\u001b[39m):\n\u001b[1;32m   1400\u001b[0m     content_or_path \u001b[38;5;241m=\u001b[39m BytesIO(content_or_path)\n\u001b[0;32m-> 1402\u001b[0m \u001b[38;5;28;01mwith\u001b[39;00m \u001b[43mget_handle\u001b[49m\u001b[43m(\u001b[49m\n\u001b[1;32m   1403\u001b[0m \u001b[43m    \u001b[49m\u001b[43mcontent_or_path\u001b[49m\u001b[43m,\u001b[49m\u001b[43m \u001b[49m\u001b[38;5;124;43m\"\u001b[39;49m\u001b[38;5;124;43mrb\u001b[39;49m\u001b[38;5;124;43m\"\u001b[39;49m\u001b[43m,\u001b[49m\u001b[43m \u001b[49m\u001b[43mstorage_options\u001b[49m\u001b[38;5;241;43m=\u001b[39;49m\u001b[43mstorage_options\u001b[49m\u001b[43m,\u001b[49m\u001b[43m \u001b[49m\u001b[43mis_text\u001b[49m\u001b[38;5;241;43m=\u001b[39;49m\u001b[38;5;28;43;01mFalse\u001b[39;49;00m\n\u001b[1;32m   1404\u001b[0m \u001b[43m\u001b[49m\u001b[43m)\u001b[49m \u001b[38;5;28;01mas\u001b[39;00m handle:\n\u001b[1;32m   1405\u001b[0m     stream \u001b[38;5;241m=\u001b[39m handle\u001b[38;5;241m.\u001b[39mhandle\n\u001b[1;32m   1406\u001b[0m     stream\u001b[38;5;241m.\u001b[39mseek(\u001b[38;5;241m0\u001b[39m)\n",
            "File \u001b[0;32m~/Documents/chemosensitivity project/CHEMOSENSITIVITY/.venv/lib/python3.13/site-packages/pandas/io/common.py:882\u001b[0m, in \u001b[0;36mget_handle\u001b[0;34m(path_or_buf, mode, encoding, compression, memory_map, is_text, errors, storage_options)\u001b[0m\n\u001b[1;32m    873\u001b[0m         handle \u001b[38;5;241m=\u001b[39m \u001b[38;5;28mopen\u001b[39m(\n\u001b[1;32m    874\u001b[0m             handle,\n\u001b[1;32m    875\u001b[0m             ioargs\u001b[38;5;241m.\u001b[39mmode,\n\u001b[0;32m   (...)\u001b[0m\n\u001b[1;32m    878\u001b[0m             newline\u001b[38;5;241m=\u001b[39m\u001b[38;5;124m\"\u001b[39m\u001b[38;5;124m\"\u001b[39m,\n\u001b[1;32m    879\u001b[0m         )\n\u001b[1;32m    880\u001b[0m     \u001b[38;5;28;01melse\u001b[39;00m:\n\u001b[1;32m    881\u001b[0m         \u001b[38;5;66;03m# Binary mode\u001b[39;00m\n\u001b[0;32m--> 882\u001b[0m         handle \u001b[38;5;241m=\u001b[39m \u001b[38;5;28;43mopen\u001b[39;49m\u001b[43m(\u001b[49m\u001b[43mhandle\u001b[49m\u001b[43m,\u001b[49m\u001b[43m \u001b[49m\u001b[43mioargs\u001b[49m\u001b[38;5;241;43m.\u001b[39;49m\u001b[43mmode\u001b[49m\u001b[43m)\u001b[49m\n\u001b[1;32m    883\u001b[0m     handles\u001b[38;5;241m.\u001b[39mappend(handle)\n\u001b[1;32m    885\u001b[0m \u001b[38;5;66;03m# Convert BytesIO or file objects passed with an encoding\u001b[39;00m\n",
            "\u001b[0;31mFileNotFoundError\u001b[0m: [Errno 2] No such file or directory: '/content/drive/MyDrive/data/41467_2023_41132_MOESM3_ESM.xlsx'"
          ]
        }
      ],
      "source": [
        "import pandas as pd \n",
        "\n",
        "#cell line annotations for CCLE characterisation from https://www.nature.com/articles/s41467-023-41132-w#MOESM3\n",
        "#ccle 1019 has limited info on which cell lines are head and neck scc (ie: they only label as upper aerodigestive tract)\n",
        "#this calls out ccle cell lines for hnn scc\n",
        "#/content/drive/MyDrive/data/41467_2023_41132_MOESM3_ESM.xlsx\n",
        "cell_line_annots = pd.read_excel('/content/drive/MyDrive/data/41467_2023_41132_MOESM3_ESM.xlsx')\n",
        "cell_line_annots.columns = cell_line_annots.iloc[0]\n",
        "cell_line_annots = cell_line_annots[1:]\n",
        "list(cell_line_annots.columns)\n",
        "cell_line_annots_trunc = cell_line_annots[['Cell line name', 'Primary disease', 'Disease subtype', 'Primary/metastasis']]\n",
        "cell_line_annots_trunc['Cell line name'] = (\n",
        "    cell_line_annots_trunc['Cell line name']\n",
        "    .str.replace(r'[\\[\\]{}()]', '', regex=True)  # Remove brackets but keep contents\n",
        "    .str.replace(r'[-/ ]', '', regex=True)  # Remove '-', '/', and spaces\n",
        "    .str.upper()  # Convert to uppercase\n",
        ")\n",
        "\n",
        "cell_line_annots_trunc\n",
        "\n",
        "# Display unique values in the 'Primary disease' column\n",
        "##unique_primary_disease = cell_line_annots['Primary disease'].unique()\n",
        "#print(\"Unique values in 'Primary disease':\")\n",
        "#print(unique_primary_disease)\n",
        "\n",
        "# Display unique values in the 'Sample collection site' column\n",
        "##unique_sample_collection_site = cell_line_annots['Sample collection site'].unique()\n",
        "#print(\"\\nUnique values in 'Sample collection site':\")\n",
        "#print(unique_sample_collection_site)\n",
        "\n",
        "# Display unique values in the 'Disease subtype' column\n",
        "##unique_disease_subtype = cell_line_annots['Disease subtype'].unique()\n",
        "#print(\"\\nUnique values in 'Disease subtype':\")\n",
        "#print(unique_disease_subtype)\n",
        "\n",
        "#### use the above for options to customise cancer  type ####\n",
        "#choose \"Primary disease\"== 'Head and Neck Cancer', 'Disease subtype' == anything that contains Squamous Cell Carcinoma\n",
        "hnscc_ccle_annots = cell_line_annots_trunc[\n",
        "    (cell_line_annots_trunc['Primary disease'] == 'Head and Neck Cancer') &\n",
        "    (cell_line_annots_trunc['Disease subtype'].str.contains('Squamous Cell Carcinoma', na=False))\n",
        "]\n",
        "\n",
        "hnscc_ccle_annots\n",
        "\n",
        "##getting list of ccle hnscc with cisplatin ic50 values by making the cell line name columns compatible for merge function\n",
        "##cisplatin ic50 values from secondary-screen-dose-response-curve-parameters.csv\n",
        "\n",
        "import pandas as pd\n",
        "\n",
        "## take the GDSC IC50 values for sensitivity and resistance of cell lines \n",
        "## CCLE cancer cell line encyclopedia used for RNA-seq gene expression data - characterization of molecular features \n",
        "secdscreen = pd.read_csv('/content/drive/MyDrive/data/secondary-screen-dose-response-curve-parameters.csv', usecols=['ccle_name', 'ic50', 'name'])\n",
        "secdscreen = secdscreen.dropna(subset=['ic50'])\n",
        "secdscreen\n",
        "\n",
        "cisplatin_secdscreen = secdscreen[secdscreen['name'].str.contains('cisplatin', na=False)].copy()\n",
        "cisplatin_secdscreen\n",
        "\n",
        "def safe_split(value):\n",
        "    \"\"\"Safely split the string by '_' into two parts or return None.\"\"\"\n",
        "    parts = str(value).split('_', 1)  # Split only once\n",
        "    if len(parts) == 2:\n",
        "        return parts\n",
        "    return [parts[0], None]\n",
        "\n",
        "# Apply the safe split function to 'ccle_name'\n",
        "split_values = cisplatin_secdscreen['ccle_name'].apply(safe_split)\n",
        "\n",
        "# Extract the results into two new columns\n",
        "cisplatin_secdscreen['cell_line_name'] = split_values.apply(lambda x: x[0])\n",
        "cisplatin_secdscreen['cancer_type'] = split_values.apply(lambda x: x[1])\n",
        "\n",
        "cisplatin_secdscreen\n",
        "cell_line_annots_trunc\n",
        "cell_line_annots_trunc.rename(columns={'Cell line name': 'cell_line_name'}, inplace=True)\n",
        "\n",
        "cisplatin_secdscreen_filter = pd.merge(cisplatin_secdscreen, cell_line_annots_trunc, on='cell_line_name', how='left').copy()\n",
        "cisplatin_secdscreen_filter\n",
        "\n",
        "# Display unique values in the 'Primary disease' column\n",
        "unique_primary_disease = cisplatin_secdscreen_filter['Primary disease'].unique()\n",
        "print(\"Unique values in 'Primary disease':\")\n",
        "print(unique_primary_disease)\n",
        "\n",
        "# Display unique values in the 'Disease subtype' column\n",
        "unique_disease_subtype = cisplatin_secdscreen_filter['Disease subtype'].unique()\n",
        "print(\"\\nUnique values in 'Disease subtype':\")\n",
        "print(unique_disease_subtype)\n",
        "\n",
        "secdscreen_hnscc = cisplatin_secdscreen_filter[\n",
        "    (cisplatin_secdscreen_filter['Primary disease'] == 'Head and Neck Cancer') &\n",
        "    (cisplatin_secdscreen_filter['Disease subtype'].str.contains('Squamous Cell Carcinoma', na=False))\n",
        "]\n",
        "\n",
        "secdscreen_hnscc\n"
      ]
    },
    {
      "cell_type": "code",
      "execution_count": null,
      "metadata": {
        "id": "GAU4W-nqQwfQ"
      },
      "outputs": [],
      "source": [
        "##processing ccle 1019 rna expression data\n",
        "## getting rna expression data with cisplatin ic50 values\n",
        "import pandas as pd\n",
        "file_path = \"/content/drive/MyDrive/data/CCLE_RNAseq_rsem_genes_tpm_20180929.txt.gz\"\n",
        "chunk_list = []\n",
        "chunk_size = 10\n",
        "for chunk in pd.read_csv(file_path, chunksize=chunk_size, compression='gzip',sep=\"\\t\"):\n",
        "    chunk = chunk.drop(columns=[\"transcript_ids\"], errors=\"ignore\")\n",
        "    merged_chunk = pd.merge(gtf_data, chunk, on=\"gene_id\", how=\"right\")\n",
        "    merged_chunk = merged_chunk[[\"gene_name\"] + [col for col in merged_chunk.columns if col != \"gene_name\"]]\n",
        "    #transposed_chunk = merged_chunk.T\n",
        "    chunk_list.append(merged_chunk)\n",
        "\n",
        "ccle_df = pd.concat(chunk_list, axis=0)\n",
        "ccle_df = ccle_df.reset_index(drop=True)\n",
        "ccle_df = ccle_df.T\n",
        "ccle_df = ccle_df.rename(columns=ccle_df.iloc[0])\n",
        "ccle_df = ccle_df.reset_index()\n",
        "ccle_df.rename(columns={'index': 'ccle_name'}, inplace=True)\n",
        "#secdscreen_hnscc\n",
        "secdscreen_ccle_df = pd.merge(ccle_df, secdscreen_hnscc, on=\"ccle_name\", how=\"outer\")\n",
        "secdscreen_ccle_df.dropna()\n",
        "secdscreen_ccle_df\n"
      ]
    },
    {
      "cell_type": "code",
      "execution_count": null,
      "metadata": {
        "id": "AYF3mXKKQxGG"
      },
      "outputs": [],
      "source": [
        "#getting expression matrix to call out genes differentially expressed between sensitive vs resistant cell lines\n",
        "###not completed yet --> key error\n",
        "metadata_cols = ['ic50', 'name', 'cell_line_name', 'cancer_type', 'Primary disease',\n",
        "                 'Disease subtype', 'Primary/metastasis', 'LNIC50']\n",
        "\n",
        "gene_expr_cols = [col for col in secdscreen_ccle_df.columns if col not in metadata_cols]\n",
        "\n",
        "secdscreen_sample_expr = secdscreen_ccle_df[gene_expr_cols].T\n",
        "secdscreen_sample_expr.columns = secdscreen_ccle_df['cell_line_name']\n",
        "\n",
        "\n",
        "# Add a `class` column based on `LNIC50` (e.g., thresholding `LNIC50`)\n",
        "threshold = secdscreen_ccle_df['ic50'].median()  # Example: median as threshold\n",
        "secdscreen_ccle_df['class'] = ['sensitive' if val <= threshold else 'resistant'\n",
        "                               for val in secdscreen_ccle_df['ic50']]\n",
        "\n",
        "secdscreen_sample_data = secdscreen_ccle_df[['cell_line_name', 'class']].set_index('cell_line_name')\n",
        "secdscreen_sample_expr = secdscreen_sample_expr.drop(index='ccle_name', errors='ignore')\n",
        "secdscreen_sample_expr.index.names = ['gene']\n",
        "secdscreen_sample_expr"
      ]
    },
    {
      "cell_type": "code",
      "execution_count": null,
      "metadata": {
        "id": "WC78zrnhQywD"
      },
      "outputs": [],
      "source": [
        "#4 additional cell lines (BHY, BICR22, BICR31 and FADU) from gdsc dataframe that have available cisplatin ic50 values\n",
        "#- need time to sort out this part of the code\n",
        "#- one cell line from here overlaps with the above 14 cell lines"
      ]
    }
  ],
  "metadata": {
    "colab": {
      "provenance": []
    },
    "kernelspec": {
      "display_name": ".venv",
      "language": "python",
      "name": "python3"
    },
    "language_info": {
      "codemirror_mode": {
        "name": "ipython",
        "version": 3
      },
      "file_extension": ".py",
      "mimetype": "text/x-python",
      "name": "python",
      "nbconvert_exporter": "python",
      "pygments_lexer": "ipython3",
      "version": "3.13.1"
    }
  },
  "nbformat": 4,
  "nbformat_minor": 0
}
